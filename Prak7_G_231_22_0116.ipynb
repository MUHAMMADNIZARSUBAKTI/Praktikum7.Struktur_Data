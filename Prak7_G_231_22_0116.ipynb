{
  "nbformat": 4,
  "nbformat_minor": 0,
  "metadata": {
    "colab": {
      "provenance": []
    },
    "kernelspec": {
      "name": "python3",
      "display_name": "Python 3"
    },
    "language_info": {
      "name": "python"
    }
  },
  "cells": [
    {
      "cell_type": "markdown",
      "source": [
        "**Nama : Muhammad Nizar Subakti**\n",
        "\n",
        "**NIM : G.231.22.0116**"
      ],
      "metadata": {
        "id": "zunWx1PPBV4z"
      }
    },
    {
      "cell_type": "markdown",
      "source": [
        "Inorder"
      ],
      "metadata": {
        "id": "seT27N17B3qE"
      }
    },
    {
      "cell_type": "code",
      "execution_count": 1,
      "metadata": {
        "colab": {
          "base_uri": "https://localhost:8080/"
        },
        "id": "hJ3ANkAgdSwB",
        "outputId": "f28ad2f0-5bcd-406c-cab3-58f164e5331f"
      },
      "outputs": [
        {
          "output_type": "stream",
          "name": "stdout",
          "text": [
            "\n",
            "Inorder traversal of binary tree is\n",
            "4\n",
            "2\n",
            "5\n",
            "1\n",
            "3\n"
          ]
        }
      ],
      "source": [
        "# Python3 program to for tree traversals\n",
        "# Inorder\n",
        "class Node:\n",
        "    def __init__(self, key):\n",
        "      self.left = None\n",
        "      self.right = None\n",
        "      self.val = key\n",
        "# A function to do inorder tree traversal\n",
        "def printInorder(root):\n",
        "  if root:\n",
        "    # First recur on left child\n",
        "    printInorder(root.left)\n",
        "\n",
        "    # Then print the data of node\n",
        "    print(root.val)\n",
        "\n",
        "    # Now recur on right child\n",
        "    printInorder(root.right)\n",
        "# Driver code\n",
        "if __name__ == '__main__':\n",
        "    root = Node(1)\n",
        "    root.left = Node(2)\n",
        "    root.right = Node(3)\n",
        "    root.left.left = Node(4)\n",
        "    root.left.right = Node(5)\n",
        "\n",
        "    # Function call\n",
        "    print(\"\\nInorder traversal of binary tree is\")\n",
        "    printInorder(root)"
      ]
    },
    {
      "cell_type": "markdown",
      "source": [
        "Preorder"
      ],
      "metadata": {
        "id": "LzIaXQcPCiBu"
      }
    },
    {
      "cell_type": "code",
      "source": [
        "# Preorder Binary Tree\n",
        "class Node:\n",
        "    def __init__(self, key):\n",
        "        self.left = None\n",
        "        self.right = None\n",
        "        self.val = key\n",
        "\n",
        "# A function to do preorder tree traversal\n",
        "def printPreorder(root):\n",
        "    if root:\n",
        "        # First print the data of node\n",
        "        print(root.val)\n",
        "\n",
        "        # Then recur on left child\n",
        "        printPreorder(root.left)\n",
        "\n",
        "        # Finally recur on right child\n",
        "        printPreorder(root.right)\n",
        "# Driver code\n",
        "if __name__ == \"__main__\":\n",
        "    root = Node(1)\n",
        "    root.left = Node(2)\n",
        "    root.right = Node(3)\n",
        "    root.left.left = Node(4)\n",
        "    root.left.right = Node(5)\n",
        "\n",
        "    # Function call\n",
        "    print(\"Preorder traversal of binary tree is\")\n",
        "    printPreorder(root)\n"
      ],
      "metadata": {
        "id": "bmNYNNZNg5h2",
        "colab": {
          "base_uri": "https://localhost:8080/"
        },
        "outputId": "64015a66-3b3b-4319-a9c8-e53155040739"
      },
      "execution_count": 2,
      "outputs": [
        {
          "output_type": "stream",
          "name": "stdout",
          "text": [
            "Preorder traversal of binary tree is\n",
            "1\n",
            "2\n",
            "4\n",
            "5\n",
            "3\n"
          ]
        }
      ]
    },
    {
      "cell_type": "markdown",
      "source": [
        "Postorder"
      ],
      "metadata": {
        "id": "d9VaUPQ7ClO1"
      }
    },
    {
      "cell_type": "code",
      "source": [
        "# Postorder Binary Tree\n",
        "class Node:\n",
        "    def __init__(self, key):\n",
        "        self.left = None\n",
        "        self.right = None\n",
        "        self.val = key\n",
        "# A function to do postorder tree traversal\n",
        "def printPostorder (root):\n",
        "  if root:\n",
        "    # First recur on left child\n",
        "    printPostorder(root.left)\n",
        "\n",
        "    # Then recur on right child\n",
        "    printPostorder(root.right)\n",
        "\n",
        "    # Now print the data of node\n",
        "    print(root.val)\n",
        "\n",
        "# Driver code\n",
        "if __name__ == \"__main__\":\n",
        "    root = Node(1)\n",
        "    root.left = Node(2)\n",
        "    root.right = Node(3)\n",
        "    root.left.left = Node(4)\n",
        "    root.left.right = Node(5)\n",
        "\n",
        "    # Function call\n",
        "    print(\"\\nPostorder traversal of binary tree is\")\n",
        "    printPostorder(root)"
      ],
      "metadata": {
        "id": "4r-U5VbjksZ4",
        "colab": {
          "base_uri": "https://localhost:8080/"
        },
        "outputId": "c97c411a-051d-4003-b1dc-24a348ab1ccf"
      },
      "execution_count": 3,
      "outputs": [
        {
          "output_type": "stream",
          "name": "stdout",
          "text": [
            "\n",
            "Postorder traversal of binary tree is\n",
            "4\n",
            "5\n",
            "2\n",
            "3\n",
            "1\n"
          ]
        }
      ]
    }
  ]
}